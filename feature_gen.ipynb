{
 "metadata": {
  "name": "",
  "signature": "sha256:b9e7d47511150951e72ac5e9eca38be0a24767893cff5a311adf8391187bd9aa"
 },
 "nbformat": 3,
 "nbformat_minor": 0,
 "worksheets": [
  {
   "cells": [
    {
     "cell_type": "markdown",
     "metadata": {},
     "source": [
      "#Feature Generation for sequence ranking\n",
      "We extract features from word-bigram and character sequence to train a model that can assign each word-bigram proper proper score such that "
     ]
    }
   ],
   "metadata": {}
  }
 ]
}