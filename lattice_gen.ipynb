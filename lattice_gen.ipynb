{
 "metadata": {
  "name": "",
  "signature": "sha256:1edc58d298f42a8fd9d70f86f4c3668ace77b0079f82f8f0fd276a476435220a"
 },
 "nbformat": 3,
 "nbformat_minor": 0,
 "worksheets": [
  {
   "cells": [
    {
     "cell_type": "markdown",
     "metadata": {},
     "source": [
      "#Word Lattice Gen and Traversal\n",
      "\n",
      "##Specification\n",
      "###Input \n",
      "1. a set of words (unicode string)\n",
      "2. a list of sentences in the form of list/string of characters\n",
      "\n",
      "###Output:\n",
      "a representation of word lattice. Current design:\n",
      "- a **sent_list** to represent the sentence, each index correspond to a char position. sent of *n* char has *n+1* positions\n",
      "- at each index of sent_list, two lists are kept:\n",
      "  - **forward_word_table** a *dict*, key=word_length, value= set of words that *starts* at the index poistion of the sentence that are of length of word_length\n",
      "  - **backward_word_table** a *dict*, similar to forward_word_table, except that it records words that *ends* at this position\n",
      "> - usage scenario: extracting words at specific position and their *word-level* context:at each position x, a word candidate *candy* of length n can found in sent_list[x].forward_word_table[n].\n",
      ">  Its *left word context* can be found in sent_list[x].backword_word_table[?] and its *right word context* can be found in sent_list[x+n].forward_word_table[?]\n",
      "\n",
      "\n",
      "\n"
     ]
    },
    {
     "cell_type": "code",
     "collapsed": false,
     "input": [
      "def lattice_build(word_list, lines_of_sentences):\n",
      "    if not type(word_list) is set:\n",
      "        word_list=set(word_list)\n",
      "    \n",
      "    lattice_list=[]\n",
      "    \n",
      "    for sent in lines_of_sentences:\n",
      "        lattice=[]\n",
      "        print \"\\n\\n------ sent=\",  \" \".join(sent), \"------\"\n",
      "        for i in range(len(sent)):\n",
      "            print '\\n\\n==>position ',i\n",
      "            sent_len=len(sent)\n",
      "            forward_word_table={k:u\"\".join(sent[i:i+k]) for k in range(1,sent_len+1-i) if u\"\".join(sent[i:i+k]) in word_list}\n",
      "            backward_word_table={k:u\"\".join(sent[i-k:i]) for k in range(i+1) if u\"\".join(sent[i-k:i]) in word_list}\n",
      "            lattice.append((forward_word_table, backward_word_table))\n",
      "            \n",
      "            fwd_t, bwd_t=forward_word_table, backward_word_table\n",
      "            print '\\nfwd_t:'\n",
      "            for l in fwd_t:\n",
      "                print l, fwd_t[l]\n",
      "            print '\\nbwd_t:'\n",
      "            for l in bwd_t:\n",
      "                print l, bwd_t[l]\n",
      "            print '===========\\n'        \n",
      "        \n",
      "        lattice_list.append(lattice)\n",
      "    \n",
      "    return lattice_list\n",
      "\n",
      "lines_of_sent=[['#START#','a','b','c','a','#END#'], ['a','b','c','a']]  #with and without special symbol for start/end of sentence\n",
      "word_list=['#START#','ab','bca','ca', '#END#']\n",
      "\n",
      "lattice_list=lattice_build(word_list, lines_of_sent)\n",
      "\n"
     ],
     "language": "python",
     "metadata": {},
     "outputs": []
    },
    {
     "cell_type": "code",
     "collapsed": false,
     "input": [],
     "language": "python",
     "metadata": {},
     "outputs": []
    }
   ],
   "metadata": {}
  }
 ]
}