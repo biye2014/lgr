{
 "metadata": {
  "name": "",
  "signature": "sha256:770c3d3cc67d13ffd3e82350f9c81f1d06067576f722b14727d8f2e2abf01c3a"
 },
 "nbformat": 3,
 "nbformat_minor": 0,
 "worksheets": [
  {
   "cells": [
    {
     "cell_type": "markdown",
     "metadata": {},
     "source": [
      "#Word Lattice Gen and Traversal\n",
      "\n",
      "##Initial Design (*out-of-date! See the New design in next text/markdown cell*)\n",
      "###Input \n",
      "1. a set of words (unicode string)\n",
      "2. a list of sentences in the form of list/string of characters\n",
      "\n",
      "###Output:\n",
      "a representation of word lattice. Current design:\n",
      "- a **sent_list** to represent the sentence, each index correspond to a char position. sent of *n* char has *n+1* positions\n",
      "- at each index of sent_list, two lists are kept:\n",
      "  - ~~**forward_word_table** a *dict*, key=word_length, value= set of words that *starts* at the index poistion of the sentence that are of length of word_length~~ \uff08turns out that only backward_word_table is needed for the DP/Viterbi search\uff09\n",
      "  - **backward_word_table** a *dict*, similar to forward_word_table, except that it records words that *ends* at this position\n",
      "> - usage scenario: extracting words at specific position and their *word-level* context:at each position x, a word candidate *candy* of length n can found in sent_list[x].forward_word_table[n].\n",
      ">  Its *left word context* can be found in sent_list[x].backword_word_table[?] and its *right word context* can be found in sent_list[x+n].forward_word_table[?]\n",
      "\n",
      "\n",
      "\n"
     ]
    },
    {
     "cell_type": "code",
     "collapsed": false,
     "input": [
      "#\n",
      "# function for build word lattice\n",
      "#\n",
      "def lattice_build(word_list, lines_of_sentences):\n",
      "    if not type(word_list) is set:\n",
      "        word_list=set(word_list)\n",
      "    \n",
      "    lattice_list=[]\n",
      "    \n",
      "    for sent in lines_of_sentences:\n",
      "        lattice=[]\n",
      "        print \"\\n\\n------ sent=\",  \" \".join(sent), \"------\"\n",
      "        for i in range(len(sent)):\n",
      "            print '\\n\\n==>position ',i\n",
      "            sent_len=len(sent)\n",
      "            forward_word_table={k:u\"\".join(sent[i:i+k]) for k in range(1,sent_len+1-i) if u\"\".join(sent[i:i+k]) in word_list}\n",
      "            backward_word_table={k:u\"\".join(sent[i-k:i]) for k in range(i+1) if u\"\".join(sent[i-k:i]) in word_list}\n",
      "            lattice.append((forward_word_table, backward_word_table))\n",
      "            \n",
      "            fwd_t, bwd_t=forward_word_table, backward_word_table\n",
      "            print '\\nfwd_t:'\n",
      "            for l in fwd_t:\n",
      "                print l, fwd_t[l]\n",
      "            print '\\nbwd_t:'\n",
      "            for l in bwd_t:\n",
      "                print l, bwd_t[l]\n",
      "            print '===========\\n'        \n",
      "        \n",
      "        lattice_list.append(lattice)\n",
      "    \n",
      "    return lattice_list\n",
      "\n",
      "#we decide that we use sent representation WITHOUT star/end symbol\n",
      "lines_of_sent=[['#START#','a','b','c','a','#END#'], ['a','b','c','a']]  #with and without special symbol for start/end of sentence\n",
      "\n",
      "word_list=['#START#','ab','bca','ca', '#END#']\n",
      "\n",
      "lattice_list=lattice_build(word_list, lines_of_sent)\n",
      "\n"
     ],
     "language": "python",
     "metadata": {},
     "outputs": []
    },
    {
     "cell_type": "markdown",
     "metadata": {},
     "source": [
      "##Improved Design\n",
      "\n",
      "### Input: same\n",
      "\n",
      "### Output:\n",
      "- A representation of the lattice for each sentence **lattic_list**, which is a list of lattice\n",
      "  - A **lattice** is a list of dictionaries. *lattice[i]* denotes all the *word bigram* that ends at the position *i* of the sentence\n",
      "  - the dictionary is called **backward_bigram_table**\n",
      "    - *key*: start_index_of_current_word\n",
      "    - *value*: 4-tuple (start_index_of_previous_word, start_index_of_current_word, previous_word_str, current_word_str)\n",
      "    - a 4-tuple **represents**: previous_word==sent[start_index_of_previous_word:end_index_of_previous_word] and current_word=[ start_index_of_current_word:end_index_of_current_word]\n",
      "    - note: a.index are kept for *search algorithm*, while word str are kept for fast feature generation   b. Python convention, the span means [star: end), c. end_index_of_previous word == start_index_of_current_word; \n",
      "  - an intermidate "
     ]
    },
    {
     "cell_type": "code",
     "collapsed": false,
     "input": [],
     "language": "python",
     "metadata": {},
     "outputs": []
    }
   ],
   "metadata": {}
  }
 ]
}